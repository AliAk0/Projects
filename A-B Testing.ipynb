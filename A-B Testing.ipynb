{
 "cells": [
  {
   "cell_type": "code",
   "execution_count": 21,
   "id": "6ad05e51",
   "metadata": {},
   "outputs": [],
   "source": [
    "import pandas as pd\n",
    "from scipy.stats import shapiro, levene, ttest_ind"
   ]
  },
  {
   "cell_type": "code",
   "execution_count": 23,
   "id": "c74b7c90",
   "metadata": {},
   "outputs": [],
   "source": [
    "dataframe_control=pd.read_excel(r\"C:\\Users\\Ali\\Desktop\\PROJECTS\\ABTesti\\ab_testing.xlsx\", sheet_name=\"Control Group\")\n",
    "dataframe_test=pd.read_excel(r\"C:\\Users\\Ali\\Desktop\\PROJECTS\\ABTesti\\ab_testing.xlsx\", sheet_name=\"Test Group\")\n",
    "\n",
    "df_control=dataframe_control.copy()\n",
    "df_test=dataframe_test.copy()"
   ]
  },
  {
   "cell_type": "code",
   "execution_count": 30,
   "id": "6f5e9627",
   "metadata": {},
   "outputs": [
    {
     "name": "stdout",
     "output_type": "stream",
     "text": [
      "(40, 4)\n",
      "      Impression        Click    Purchase      Earning\n",
      "0   82529.459271  6090.077317  665.211255  2311.277143\n",
      "1   98050.451926  3382.861786  315.084895  1742.806855\n",
      "2   82696.023549  4167.965750  458.083738  1797.827447\n",
      "3  109914.400398  4910.882240  487.090773  1696.229178\n",
      "4  108457.762630  5987.655811  441.034050  1543.720179\n",
      "       Impression        Click    Purchase      Earning\n",
      "35  132064.219003  3747.157544  551.072406  2256.975589\n",
      "36   86409.941796  4608.256205  345.046033  1781.357690\n",
      "37  123678.934234  3649.073787  476.168128  2187.721217\n",
      "38  101997.494099  4736.353369  474.613537  2254.563834\n",
      "39  121085.881220  4285.178608  590.406020  1289.308948\n",
      "Impression    0\n",
      "Click         0\n",
      "Purchase      0\n",
      "Earning       0\n",
      "dtype: int64\n",
      "                    0.00          0.05          0.50           0.95  \\\n",
      "Impression  45475.942965  79412.017920  99790.701078  132950.532455   \n",
      "Click        2189.753157   3367.484257   5001.220602    7374.361202   \n",
      "Purchase      267.028943    328.662425    531.206307     748.270761   \n",
      "Earning      1253.989525   1329.577082   1975.160522    2318.528498   \n",
      "\n",
      "                     0.99           1.00  \n",
      "Impression  143105.791105  147539.336329  \n",
      "Click         7761.795112    7959.125069  \n",
      "Purchase       790.187785     801.795020  \n",
      "Earning       2481.308737    2497.295218  \n",
      "**********************************EMPTY***************************************\n",
      "(40, 4)\n",
      "      Impression        Click    Purchase      Earning\n",
      "0  120103.503796  3216.547958  702.160346  1939.611243\n",
      "1  134775.943363  3635.082422  834.054286  2929.405820\n",
      "2  107806.620788  3057.143560  422.934258  2526.244877\n",
      "3  116445.275526  4650.473911  429.033535  2281.428574\n",
      "4  145082.516838  5201.387724  749.860442  2781.697521\n",
      "       Impression        Click    Purchase      Earning\n",
      "35   79234.911929  6002.213585  382.047116  2277.863984\n",
      "36  130702.239410  3626.320072  449.824592  2530.841327\n",
      "37  116481.873365  4702.782468  472.453725  2597.917632\n",
      "38   79033.834921  4495.428177  425.359102  2595.857880\n",
      "39  102257.454089  4800.068321  521.310729  2967.518390\n",
      "Impression    0\n",
      "Click         0\n",
      "Purchase      0\n",
      "Earning       0\n",
      "dtype: int64\n",
      "                    0.00          0.05           0.50           0.95  \\\n",
      "Impression  79033.834921  83150.503777  119291.300775  153178.691063   \n",
      "Click        1836.629861   2600.361018    3931.359804    5271.186906   \n",
      "Purchase      311.629515    356.695400     551.355732     854.208945   \n",
      "Earning      1939.611243   2080.976213    2544.666107    2931.311449   \n",
      "\n",
      "                     0.99           1.00  \n",
      "Impression  158245.263797  158605.920483  \n",
      "Click         6012.877296    6019.695079  \n",
      "Purchase       876.576104     889.910460  \n",
      "Earning       3091.940894    3171.489708  \n"
     ]
    }
   ],
   "source": [
    "def check_df(dataframe):\n",
    "    print(dataframe.shape)\n",
    "    print(dataframe.head())\n",
    "    print(dataframe.tail())\n",
    "    print(dataframe.isnull().sum())\n",
    "    print(dataframe.quantile([0,0.05,0.50,0.95,0.99,1]).T)\n",
    "    \n",
    "check_df(df_control)\n",
    "print(\"**********************************EMPTY***************************************\")\n",
    "check_df(df_test)"
   ]
  },
  {
   "cell_type": "code",
   "execution_count": 34,
   "id": "94020895",
   "metadata": {},
   "outputs": [
    {
     "data": {
      "text/html": [
       "<div>\n",
       "<style scoped>\n",
       "    .dataframe tbody tr th:only-of-type {\n",
       "        vertical-align: middle;\n",
       "    }\n",
       "\n",
       "    .dataframe tbody tr th {\n",
       "        vertical-align: top;\n",
       "    }\n",
       "\n",
       "    .dataframe thead th {\n",
       "        text-align: right;\n",
       "    }\n",
       "</style>\n",
       "<table border=\"1\" class=\"dataframe\">\n",
       "  <thead>\n",
       "    <tr style=\"text-align: right;\">\n",
       "      <th></th>\n",
       "      <th>Impression</th>\n",
       "      <th>Click</th>\n",
       "      <th>Purchase</th>\n",
       "      <th>Earning</th>\n",
       "      <th>group</th>\n",
       "    </tr>\n",
       "  </thead>\n",
       "  <tbody>\n",
       "    <tr>\n",
       "      <th>75</th>\n",
       "      <td>79234.911929</td>\n",
       "      <td>6002.213585</td>\n",
       "      <td>382.047116</td>\n",
       "      <td>2277.863984</td>\n",
       "      <td>test</td>\n",
       "    </tr>\n",
       "    <tr>\n",
       "      <th>76</th>\n",
       "      <td>130702.239410</td>\n",
       "      <td>3626.320072</td>\n",
       "      <td>449.824592</td>\n",
       "      <td>2530.841327</td>\n",
       "      <td>test</td>\n",
       "    </tr>\n",
       "    <tr>\n",
       "      <th>77</th>\n",
       "      <td>116481.873365</td>\n",
       "      <td>4702.782468</td>\n",
       "      <td>472.453725</td>\n",
       "      <td>2597.917632</td>\n",
       "      <td>test</td>\n",
       "    </tr>\n",
       "    <tr>\n",
       "      <th>78</th>\n",
       "      <td>79033.834921</td>\n",
       "      <td>4495.428177</td>\n",
       "      <td>425.359102</td>\n",
       "      <td>2595.857880</td>\n",
       "      <td>test</td>\n",
       "    </tr>\n",
       "    <tr>\n",
       "      <th>79</th>\n",
       "      <td>102257.454089</td>\n",
       "      <td>4800.068321</td>\n",
       "      <td>521.310729</td>\n",
       "      <td>2967.518390</td>\n",
       "      <td>test</td>\n",
       "    </tr>\n",
       "  </tbody>\n",
       "</table>\n",
       "</div>"
      ],
      "text/plain": [
       "       Impression        Click    Purchase      Earning group\n",
       "75   79234.911929  6002.213585  382.047116  2277.863984  test\n",
       "76  130702.239410  3626.320072  449.824592  2530.841327  test\n",
       "77  116481.873365  4702.782468  472.453725  2597.917632  test\n",
       "78   79033.834921  4495.428177  425.359102  2595.857880  test\n",
       "79  102257.454089  4800.068321  521.310729  2967.518390  test"
      ]
     },
     "execution_count": 34,
     "metadata": {},
     "output_type": "execute_result"
    }
   ],
   "source": [
    "df_control[\"group\"]=\"control\"\n",
    "df_test[\"group\"]=\"test\"\n",
    "\n",
    "df=pd.concat([df_control, df_test], axis=0, ignore_index=True)\n",
    "df.head()\n",
    "df.tail()"
   ]
  },
  {
   "cell_type": "code",
   "execution_count": 35,
   "id": "89314799",
   "metadata": {},
   "outputs": [
    {
     "data": {
      "text/html": [
       "<div>\n",
       "<style scoped>\n",
       "    .dataframe tbody tr th:only-of-type {\n",
       "        vertical-align: middle;\n",
       "    }\n",
       "\n",
       "    .dataframe tbody tr th {\n",
       "        vertical-align: top;\n",
       "    }\n",
       "\n",
       "    .dataframe thead th {\n",
       "        text-align: right;\n",
       "    }\n",
       "</style>\n",
       "<table border=\"1\" class=\"dataframe\">\n",
       "  <thead>\n",
       "    <tr style=\"text-align: right;\">\n",
       "      <th></th>\n",
       "      <th>Purchase</th>\n",
       "    </tr>\n",
       "    <tr>\n",
       "      <th>group</th>\n",
       "      <th></th>\n",
       "    </tr>\n",
       "  </thead>\n",
       "  <tbody>\n",
       "    <tr>\n",
       "      <th>control</th>\n",
       "      <td>550.894059</td>\n",
       "    </tr>\n",
       "    <tr>\n",
       "      <th>test</th>\n",
       "      <td>582.106097</td>\n",
       "    </tr>\n",
       "  </tbody>\n",
       "</table>\n",
       "</div>"
      ],
      "text/plain": [
       "           Purchase\n",
       "group              \n",
       "control  550.894059\n",
       "test     582.106097"
      ]
     },
     "execution_count": 35,
     "metadata": {},
     "output_type": "execute_result"
    }
   ],
   "source": [
    "# H0= Kontrol vve test grubu satın alma ortalamaları arasında fark yoktur.\n",
    "# H1= Kontrol vve test grubu satın alma ortalamaları arasında fark vardır.\n",
    "df.groupby(\"group\").agg({\"Purchase\": \"mean\"})"
   ]
  },
  {
   "cell_type": "code",
   "execution_count": 36,
   "id": "bae8af57",
   "metadata": {},
   "outputs": [
    {
     "name": "stdout",
     "output_type": "stream",
     "text": [
      "Test stat= 0.9773, pvalue= 0.5891\n"
     ]
    }
   ],
   "source": [
    "test_stat, pvalue = shapiro(df.loc[df[\"group\"] == \"control\", \"Purchase\"])\n",
    "print(\"Test stat= %.4f, pvalue= %.4f\" %(test_stat, pvalue))\n",
    "#p>0.05 H0 reddedilemez."
   ]
  },
  {
   "cell_type": "code",
   "execution_count": 37,
   "id": "ec784788",
   "metadata": {},
   "outputs": [
    {
     "name": "stdout",
     "output_type": "stream",
     "text": [
      "Test stat= 0.9589, pvalue= 0.1541\n"
     ]
    }
   ],
   "source": [
    "test_stat, pvalue = shapiro(df.loc[df[\"group\"] == \"test\", \"Purchase\"])\n",
    "print(\"Test stat= %.4f, pvalue= %.4f\" %(test_stat, pvalue))\n",
    "#H0 reddedilemez."
   ]
  },
  {
   "cell_type": "code",
   "execution_count": 40,
   "id": "90774e05",
   "metadata": {},
   "outputs": [
    {
     "name": "stdout",
     "output_type": "stream",
     "text": [
      "Test stat= 2.6393, pvalue= 0.1083\n"
     ]
    }
   ],
   "source": [
    "test_stat, pvalue = levene(df.loc[df[\"group\"] == \"control\", \"Purchase\"],\n",
    "                          df.loc[df[\"group\"] == \"test\", \"Purchase\"])\n",
    "print(\"Test stat= %.4f, pvalue= %.4f\" %(test_stat, pvalue))\n",
    "#p<0.05 H0 reddedilemez. Varyans homojenliği sağlanıyor."
   ]
  },
  {
   "cell_type": "code",
   "execution_count": 41,
   "id": "9b2e95d9",
   "metadata": {},
   "outputs": [
    {
     "name": "stdout",
     "output_type": "stream",
     "text": [
      "Test stat= -0.9416, pvalue= 0.3493\n"
     ]
    }
   ],
   "source": [
    "test_stat, pvalue = ttest_ind(df.loc[df[\"group\"] == \"control\", \"Purchase\"],\n",
    "                          df.loc[df[\"group\"] == \"test\", \"Purchase\"],\n",
    "                          equal_var=True)\n",
    "print(\"Test stat= %.4f, pvalue= %.4f\" %(test_stat, pvalue))\n",
    "#p>0.05 H0 reddedilemez. Varyans homojenliği sağlanıyor."
   ]
  },
  {
   "cell_type": "code",
   "execution_count": null,
   "id": "e6440186",
   "metadata": {},
   "outputs": [],
   "source": [
    "# İlk önce iki gruba da normallik testi uygulandı. İki grubun da normal dağılıma uyduğu gözlemlendiğinden\n",
    "# ikinci varsayıma geçilerek varyansın homojenliği incelenmiştir. Varyanslar homojen çıktığından\n",
    "# \"Bağımsız İki Örneklem T Testi\" uygulanmıştır. Uygulama sonucunda p-değerinin 0.95'ten büyük olduğu gözlenmiştir \n",
    "# ve HO hipotezi reddedilememistir.\n",
    "\n",
    "#Satın alma anlamında anlamlı bir fark olmadığından müşteri iki yöntemden birini seçebilir fakat burada diğer istatistiklerdeki\n",
    "# farklılıklar da önem arz edecektir. Tıklanma, Etkileşim, Kazanç ve Dönüşüm Oranlarındaki farklılıklar değerlendirilip hangi\n",
    "# yöntemin daha kazançlı olduğu tespit edilebilir. Özellikle Facebook'a tıklama başına para ödendiği için hangi yöntende tıklanma\n",
    "# oranın daha düşük olduğu tespit edilip ve CTR (Click Through Rate- Tıklama Oranı) oranına bakılabilir.\n",
    "# iki grup gözlenmeye devam edilir"
   ]
  }
 ],
 "metadata": {
  "kernelspec": {
   "display_name": "Python 3 (ipykernel)",
   "language": "python",
   "name": "python3"
  },
  "language_info": {
   "codemirror_mode": {
    "name": "ipython",
    "version": 3
   },
   "file_extension": ".py",
   "mimetype": "text/x-python",
   "name": "python",
   "nbconvert_exporter": "python",
   "pygments_lexer": "ipython3",
   "version": "3.9.7"
  }
 },
 "nbformat": 4,
 "nbformat_minor": 5
}
